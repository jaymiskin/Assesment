{
 "cells": [
  {
   "cell_type": "code",
   "execution_count": 1,
   "metadata": {},
   "outputs": [],
   "source": [
    "print(\"Welcome to python E-Note\")\n",
    "print(\"press 1 for generate Note\")\n",
    "print(\"Press 2 for view Note\")\n",
    "print(\"Press 3 for exit\")\n",
    "\n",
    "num = int(input(\"Enter your choice : \"))\n",
    "if num == 1 :\n",
    "# Name\n",
    "    name = input(\"Enter Python E-Note Generate Name : \").lower()\n",
    "    while not name.isalpha():\n",
    "        print(\"invalid name\")\n",
    "\n",
    "        name = input(\"Enter Python E-Note Generate Name : \").lower()\n",
    "\n",
    "# Title\n",
    "    title = input(\"Enter Python E-Note title : \").lower() # Python introducation\n",
    "    while not title.isalpha():\n",
    "        print(\"invalid name\")\n",
    "\n",
    "        title = input(\"Enter Python E-Note title : \").lower()\n",
    "\n",
    "# Contect\n",
    "    contect = input(\"Enter E-Note contect : \").lower() # Python higher level programing language\n",
    "    while not contect.isalpha():\n",
    "        print(\"invalid name\")\n",
    "\n",
    "        contect = input(\"Enter E-Note contect : \").lower()\n",
    "    \n",
    "elif num == 2 :\n",
    "    print(\"Press 2 for view Note\")\n",
    "\n",
    "elif num == 3 :\n",
    "    import os\n",
    "    print(\"removed itme\")"
   ]
  },
  {
   "cell_type": "code",
   "execution_count": null,
   "metadata": {},
   "outputs": [],
   "source": []
  }
 ],
 "metadata": {
  "kernelspec": {
   "display_name": "Python 3.11.0 64-bit",
   "language": "python",
   "name": "python3"
  },
  "language_info": {
   "codemirror_mode": {
    "name": "ipython",
    "version": 3
   },
   "file_extension": ".py",
   "mimetype": "text/x-python",
   "name": "python",
   "nbconvert_exporter": "python",
   "pygments_lexer": "ipython3",
   "version": "3.11.0"
  },
  "orig_nbformat": 4,
  "vscode": {
   "interpreter": {
    "hash": "b0ac9f6a03b02046b6f5fd9319ad59590a39d4ecd57556040f266e1e2d2231bd"
   }
  }
 },
 "nbformat": 4,
 "nbformat_minor": 2
}
