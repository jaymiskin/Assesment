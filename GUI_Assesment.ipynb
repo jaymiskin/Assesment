{
 "cells": [
  {
   "cell_type": "code",
   "execution_count": null,
   "metadata": {},
   "outputs": [],
   "source": [
    "from tkinter import ttk\n",
    "window = Tk()\n",
    "window.title(\"Registration Form\")\n",
    "window.geometry('400x400')\n",
    "\n",
    "a = Label(window ,text = \"Name\").grid(row = 0,column = 1)\n",
    "b = Label(window ,text = \"Contact\").grid(row = 1,column = 1)\n",
    "c = Label(window ,text = \"Email\").grid(row = 2,column = 1)\n",
    "d = Label(window ,text = \"Gender\").grid(row = 3,column = 1)\n",
    "e = Label(window ,text = \"City\").grid(row = 4,column = 1)\n",
    "f = Label(window ,text = \"State\").grid(row = 5,column = 1)\n",
    "\n",
    "\n",
    "a1 = Entry(window).grid(row = 0,column = 2)\n",
    "b1 = Entry(window).grid(row = 1,column = 2)\n",
    "c1 = Entry(window).grid(row = 2,column = 2)\n",
    "d1 = Entry(window).grid(row = 3,column = 2)\n",
    "e1 = Entry(window).grid(row = 4,column = 2)\n",
    "f1 = Entry(window).grid(row = 5,column = 2)\n",
    "\n",
    "def clicked():\n",
    "   res = \"Welcome to \" + txt.get()\n",
    "   lbl.configure(text= res)\n",
    "    \n",
    "btn = Button(window, text=\"Register\", bg=\"orange\").grid(row = 7,column = 1)\n",
    "\n",
    "window.mainloop()"
   ]
  }
 ],
 "metadata": {
  "language_info": {
   "name": "python"
  },
  "orig_nbformat": 4
 },
 "nbformat": 4,
 "nbformat_minor": 2
}
